{
 "cells": [
  {
   "cell_type": "code",
   "execution_count": 2,
   "id": "496b8273",
   "metadata": {},
   "outputs": [],
   "source": [
    "import pandas as pd\n",
    "import numpy as np\n",
    "import pyomo.environ as pyo\n",
    "import matplotlib.pyplot as plt\n",
    "from DICE2016R_Original_func import DICE2016R_Original\n",
    "import seaborn as sns\n",
    "\n",
    "sns.set(style = 'ticks', font_scale = 1.0)\n",
    "%config InlineBackend.figure_format='retina'\n",
    "\n",
    "dice = pyo.ConcreteModel()\n",
    "dice.opt = pyo.SolverFactory('IPOPT')\n",
    "dice.t      = pyo.Set(initialize=np.arange(1,101), doc = 'Time periods (5 years per period)')\n",
    "dice.lag10  = pyo.Set(initialize=np.arange(91,101))\n",
    "\n",
    "DICE2016R_Original.initialize_parameters(dice)\n",
    "\n",
    "DICE2016R_Original.precalculate_parameters(dice)\n",
    "\n",
    "DICE2016R_Original.initialize_variables(dice)\n",
    "\n",
    "DICE2016R_Original.define_constraints(dice)\n",
    "\n",
    "DICE2016R_Original.set_bounds(dice)\n",
    "\n",
    "solution = DICE2016R_Original.run_DICE(dice, n_repeat=10)\n",
    "solution1 = DICE2016R_Original.run_DICE(dice,ifopt=1)"
   ]
  },
  {
   "cell_type": "code",
   "execution_count": null,
   "id": "772fa89e",
   "metadata": {},
   "outputs": [],
   "source": []
  }
 ],
 "metadata": {
  "kernelspec": {
   "display_name": "Python 3 (ipykernel)",
   "language": "python",
   "name": "python3"
  },
  "language_info": {
   "codemirror_mode": {
    "name": "ipython",
    "version": 3
   },
   "file_extension": ".py",
   "mimetype": "text/x-python",
   "name": "python",
   "nbconvert_exporter": "python",
   "pygments_lexer": "ipython3",
   "version": "3.8.12"
  }
 },
 "nbformat": 4,
 "nbformat_minor": 5
}
